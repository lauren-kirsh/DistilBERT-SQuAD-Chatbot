{
 "cells": [
  {
   "cell_type": "code",
   "execution_count": 10,
   "id": "952b7770-b4fe-4ca9-a7e6-c49ad7fe884b",
   "metadata": {},
   "outputs": [],
   "source": [
    "from transformers import pipeline,DistilBertTokenizer, DistilBertForQuestionAnswering, AutoTokenizer, AutoModelForQuestionAnswering\n",
    "import torch"
   ]
  },
  {
   "cell_type": "code",
   "execution_count": 11,
   "id": "f6977917-1777-4506-8364-0306023fdd29",
   "metadata": {},
   "outputs": [],
   "source": [
    "# Load tokenizer and model\n",
    "tokenizer = DistilBertTokenizer.from_pretrained(\"./distilbert_base_squad\") \n",
    "model = DistilBertForQuestionAnswering.from_pretrained(\"./distilbert_base_squad\") \n",
    "#tokenizer = AutoTokenizer.from_pretrained(\"./model/test_1\") \n",
    "#model = AutoModelForQuestionAnswering.from_pretrained(\"./model/test_1\") "
   ]
  },
  {
   "cell_type": "code",
   "execution_count": 12,
   "id": "075528a4-7260-48e9-8d88-1ae5907d53a0",
   "metadata": {},
   "outputs": [],
   "source": [
    "# Define the QA pipeline\n",
    "qa_pipeline = pipeline(\"question-answering\", model=model, tokenizer=tokenizer)"
   ]
  },
  {
   "cell_type": "code",
   "execution_count": 13,
   "id": "7c57e427-97ca-4cd1-a8c1-58a4cfdb18dc",
   "metadata": {},
   "outputs": [],
   "source": [
    "# Example question and context\n",
    "#question = \"What is the capital of France?\"\n",
    "#context = \"The capital of France is Paris.\"\n",
    "question = \"How many parameters does BERT-large have?\"\n",
    "context = \"BERT-large is really big... it has 24-layers and an embedding size of 1,024, for a total of 340M parameters! Altogether it is 1.34GB, so expect it to take a couple minutes to download to your Colab instance.\""
   ]
  },
  {
   "cell_type": "code",
   "execution_count": 14,
   "id": "ecc8f1d0-2c0f-4c43-a757-f3c99d18eb5b",
   "metadata": {},
   "outputs": [],
   "source": [
    "# Perform question answering\n",
    "result = qa_pipeline(question=question, context=context)"
   ]
  },
  {
   "cell_type": "code",
   "execution_count": 15,
   "id": "67a667ab-a546-4e17-b6f3-51f7ed017aad",
   "metadata": {},
   "outputs": [
    {
     "name": "stdout",
     "output_type": "stream",
     "text": [
      "Answer: 340M\n",
      "Score: 0.7158824801445007\n",
      "Start: 92\n",
      "End: 96\n"
     ]
    }
   ],
   "source": [
    "# Print the answer\n",
    "print(\"Answer:\", result['answer'])\n",
    "print(\"Score:\", result['score'])\n",
    "print(\"Start:\", result['start'])\n",
    "print(\"End:\", result['end'])"
   ]
  },
  {
   "cell_type": "code",
   "execution_count": null,
   "id": "8254d0a4-44d0-445e-a7de-7cb49997cd53",
   "metadata": {},
   "outputs": [],
   "source": []
  }
 ],
 "metadata": {
  "kernelspec": {
   "display_name": "Python 3 (ipykernel)",
   "language": "python",
   "name": "python3"
  },
  "language_info": {
   "codemirror_mode": {
    "name": "ipython",
    "version": 3
   },
   "file_extension": ".py",
   "mimetype": "text/x-python",
   "name": "python",
   "nbconvert_exporter": "python",
   "pygments_lexer": "ipython3",
   "version": "3.11.7"
  }
 },
 "nbformat": 4,
 "nbformat_minor": 5
}
